{
  "nbformat": 4,
  "nbformat_minor": 0,
  "metadata": {
    "colab": {
      "provenance": [],
      "authorship_tag": "ABX9TyNcMHA9fbVKDimCuxBtVJAM",
      "include_colab_link": true
    },
    "kernelspec": {
      "name": "python3",
      "display_name": "Python 3"
    },
    "language_info": {
      "name": "python"
    }
  },
  "cells": [
    {
      "cell_type": "markdown",
      "metadata": {
        "id": "view-in-github",
        "colab_type": "text"
      },
      "source": [
        "<a href=\"https://colab.research.google.com/github/umerkhub/Python_Projects/blob/main/Snake_Water_Gun_Game/Snake_Water_Gun_Game.ipynb\" target=\"_parent\"><img src=\"https://colab.research.google.com/assets/colab-badge.svg\" alt=\"Open In Colab\"/></a>"
      ]
    },
    {
      "cell_type": "code",
      "execution_count": 22,
      "metadata": {
        "id": "_0b71N_z8O5H"
      },
      "outputs": [],
      "source": [
        "import random"
      ]
    },
    {
      "cell_type": "markdown",
      "source": [
        "\n",
        "#-1 is Snake, 0 is Water, 1 is Gun\n"
      ],
      "metadata": {
        "id": "XbEwysCw-uVg"
      }
    },
    {
      "cell_type": "code",
      "source": [
        "computer = random.choice([0,1,-1])\n",
        "user = int(input(\"Enter your choice: \"))"
      ],
      "metadata": {
        "colab": {
          "base_uri": "https://localhost:8080/"
        },
        "id": "oBHB5A4q-toM",
        "outputId": "232d3f9d-4163-4529-f38f-749e8fa2e314"
      },
      "execution_count": 23,
      "outputs": [
        {
          "name": "stdout",
          "output_type": "stream",
          "text": [
            "Enter your choice: -1\n"
          ]
        }
      ]
    },
    {
      "cell_type": "code",
      "source": [
        "UDict = {\"S\": -1, \"W\": 0, \"G\": 1}\n",
        "reversedict = {-1: \"Snake\", 0: \"Water\", 1: \"Gun\"}"
      ],
      "metadata": {
        "id": "R7i1yslk-SGo"
      },
      "execution_count": 24,
      "outputs": []
    },
    {
      "cell_type": "code",
      "source": [
        "print(f\"Computer: {reversedict[computer]}\")\n",
        "print(f\"User: {reversedict[user]}\")"
      ],
      "metadata": {
        "colab": {
          "base_uri": "https://localhost:8080/"
        },
        "id": "J1aitqPP-rDe",
        "outputId": "829f4be7-4d5f-4a63-f42b-0e90e3db073e"
      },
      "execution_count": 25,
      "outputs": [
        {
          "output_type": "stream",
          "name": "stdout",
          "text": [
            "Computer: Gun\n",
            "User: Snake\n"
          ]
        }
      ]
    },
    {
      "cell_type": "code",
      "source": [
        "if computer == user:\n",
        "  print(\"Its a Draw\")\n",
        "\n",
        "else:\n",
        "  if (computer + user) % 3 == 1:\n",
        "    print(\"Computer Wins\")\n",
        "  else:\n",
        "    print(\"User Wins\")"
      ],
      "metadata": {
        "colab": {
          "base_uri": "https://localhost:8080/"
        },
        "id": "G3ENk_svAHZ_",
        "outputId": "fa24dd55-e7d7-46b4-9099-2e042e120a21"
      },
      "execution_count": 26,
      "outputs": [
        {
          "output_type": "stream",
          "name": "stdout",
          "text": [
            "User Wins\n"
          ]
        }
      ]
    }
  ]
}