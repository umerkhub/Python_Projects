{
  "nbformat": 4,
  "nbformat_minor": 0,
  "metadata": {
    "colab": {
      "provenance": [],
      "authorship_tag": "ABX9TyM0rDH6OCxRrlrqnTH/BEVH",
      "include_colab_link": true
    },
    "kernelspec": {
      "name": "python3",
      "display_name": "Python 3"
    },
    "language_info": {
      "name": "python"
    }
  },
  "cells": [
    {
      "cell_type": "markdown",
      "metadata": {
        "id": "view-in-github",
        "colab_type": "text"
      },
      "source": [
        "<a href=\"https://colab.research.google.com/github/umerkhub/Python_Projects/blob/main/Perfect%20Guess/Perfect_Guess.ipynb\" target=\"_parent\"><img src=\"https://colab.research.google.com/assets/colab-badge.svg\" alt=\"Open In Colab\"/></a>"
      ]
    },
    {
      "cell_type": "markdown",
      "source": [
        "#Perfect Guess"
      ],
      "metadata": {
        "id": "K-tfCZqx1J24"
      }
    },
    {
      "cell_type": "code",
      "execution_count": 1,
      "metadata": {
        "id": "-YOUMM7WwyDe"
      },
      "outputs": [],
      "source": [
        "import random"
      ]
    },
    {
      "cell_type": "code",
      "source": [
        "n = random.randrange(1,100)\n",
        "a = -1\n",
        "guesses = 0"
      ],
      "metadata": {
        "id": "I-4tylZ0xABc"
      },
      "execution_count": 10,
      "outputs": []
    },
    {
      "cell_type": "code",
      "source": [
        "while(a != n):\n",
        "  guesses += 1\n",
        "  a = int(input(\"Guess the number: \"))\n",
        "  if(a > n):\n",
        "    print(\"Guess a lower number\")\n",
        "  else:\n",
        "    print(\"Guess a higher number\")"
      ],
      "metadata": {
        "colab": {
          "base_uri": "https://localhost:8080/"
        },
        "id": "I2YeHK88xG0N",
        "outputId": "834810e6-22fc-4e8f-b996-ee15688ed27c"
      },
      "execution_count": 11,
      "outputs": [
        {
          "output_type": "stream",
          "name": "stdout",
          "text": [
            "Guess the number: 4\n",
            "Guess a higher number\n",
            "Guess the number: 66\n",
            "Guess a lower number\n",
            "Guess the number: 54\n",
            "Guess a lower number\n",
            "Guess the number: 45\n",
            "Guess a lower number\n",
            "Guess the number: 34\n",
            "Guess a higher number\n",
            "Guess the number: 37\n",
            "Guess a higher number\n",
            "Guess the number: 40\n",
            "Guess a higher number\n",
            "Guess the number: 43\n",
            "Guess a lower number\n",
            "Guess the number: 42\n",
            "Guess a lower number\n",
            "Guess the number: 41\n",
            "Guess a higher number\n"
          ]
        }
      ]
    },
    {
      "cell_type": "code",
      "source": [
        "print(f\"You have guessed the number {n} correctly in {guesses} attempts\")"
      ],
      "metadata": {
        "colab": {
          "base_uri": "https://localhost:8080/"
        },
        "id": "7SGcXCtZzqGs",
        "outputId": "45a60d97-333d-4725-e79f-bc764c71e687"
      },
      "execution_count": 12,
      "outputs": [
        {
          "output_type": "stream",
          "name": "stdout",
          "text": [
            "You have guessed the number 41 correctly in 10 attempts\n"
          ]
        }
      ]
    },
    {
      "cell_type": "code",
      "source": [],
      "metadata": {
        "id": "Q3GaQ2bLzrTH"
      },
      "execution_count": null,
      "outputs": []
    }
  ]
}