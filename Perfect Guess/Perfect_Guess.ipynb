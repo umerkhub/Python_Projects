{
  "nbformat": 4,
  "nbformat_minor": 0,
  "metadata": {
    "colab": {
      "provenance": [],
      "authorship_tag": "ABX9TyO1qdJzPJCv08FQdRSXGvKR",
      "include_colab_link": true
    },
    "kernelspec": {
      "name": "python3",
      "display_name": "Python 3"
    },
    "language_info": {
      "name": "python"
    }
  },
  "cells": [
    {
      "cell_type": "markdown",
      "metadata": {
        "id": "view-in-github",
        "colab_type": "text"
      },
      "source": [
        "<a href=\"https://colab.research.google.com/github/umerkhub/Python_Projects/blob/main/Perfect%20Guess/Perfect_Guess.ipynb\" target=\"_parent\"><img src=\"https://colab.research.google.com/assets/colab-badge.svg\" alt=\"Open In Colab\"/></a>"
      ]
    },
    {
      "cell_type": "markdown",
      "source": [
        "#Perfect Guess"
      ],
      "metadata": {
        "id": "K-tfCZqx1J24"
      }
    },
    {
      "cell_type": "code",
      "execution_count": 1,
      "metadata": {
        "id": "-YOUMM7WwyDe"
      },
      "outputs": [],
      "source": [
        "import random"
      ]
    },
    {
      "cell_type": "code",
      "source": [
        "n = random.randrange(1,100)\n",
        "a = -1\n",
        "guesses = 0"
      ],
      "metadata": {
        "id": "I-4tylZ0xABc"
      },
      "execution_count": 2,
      "outputs": []
    },
    {
      "cell_type": "code",
      "source": [
        "while(a != n):\n",
        "  guesses += 1\n",
        "  a = int(input(\"Guess the number: \"))\n",
        "  if(a > n):\n",
        "    print(\"Guess a lower number\")\n",
        "  else:\n",
        "    print(\"Guess a higher number\")\n",
        "print(f\"You have guessed the number {n} correctly in {guesses} attempts\")"
      ],
      "metadata": {
        "colab": {
          "base_uri": "https://localhost:8080/"
        },
        "id": "I2YeHK88xG0N",
        "outputId": "b14a88cf-fc3d-43d4-f488-ae3c93e9f14d"
      },
      "execution_count": 5,
      "outputs": [
        {
          "output_type": "stream",
          "name": "stdout",
          "text": [
            "You have guessed the number 51 correctly in 4 attempts\n"
          ]
        }
      ]
    }
  ]
}