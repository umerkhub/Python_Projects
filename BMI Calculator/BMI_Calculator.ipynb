{
  "nbformat": 4,
  "nbformat_minor": 0,
  "metadata": {
    "colab": {
      "provenance": [],
      "authorship_tag": "ABX9TyNs40rLNh5seclJHeyGwvIQ",
      "include_colab_link": true
    },
    "kernelspec": {
      "name": "python3",
      "display_name": "Python 3"
    },
    "language_info": {
      "name": "python"
    }
  },
  "cells": [
    {
      "cell_type": "markdown",
      "metadata": {
        "id": "view-in-github",
        "colab_type": "text"
      },
      "source": [
        "<a href=\"https://colab.research.google.com/github/umerkhub/Python_Projects/blob/main/BMI%20Calculator/BMI_Calculator.ipynb\" target=\"_parent\"><img src=\"https://colab.research.google.com/assets/colab-badge.svg\" alt=\"Open In Colab\"/></a>"
      ]
    },
    {
      "cell_type": "markdown",
      "source": [
        "#BMI Calculator"
      ],
      "metadata": {
        "id": "K-tfCZqx1J24"
      }
    },
    {
      "cell_type": "code",
      "execution_count": 32,
      "metadata": {
        "id": "-YOUMM7WwyDe"
      },
      "outputs": [],
      "source": [
        "def calculator_bmi(weight, height_cm):\n",
        "  height_m = height_cm / 100\n",
        "  bmi = weight / (height_m ** 2)\n",
        "  return round(bmi, 2)"
      ]
    },
    {
      "cell_type": "code",
      "source": [
        "def catergorize_bmi(bmi):\n",
        "  if bmi < 18.5:\n",
        "    return \"Underweight\"\n",
        "  elif bmi <= 18.5 and bmi <= 24.9:\n",
        "    return \"Normal\"\n",
        "  elif bmi <=25 and bmi <= 29.9:\n",
        "    return \"Overweight\"\n",
        "  else:\n",
        "    return \"Obese\""
      ],
      "metadata": {
        "id": "I-4tylZ0xABc"
      },
      "execution_count": 33,
      "outputs": []
    },
    {
      "cell_type": "code",
      "source": [
        "def main():\n",
        "  print(\"Welcome to BMI Calculator\")\n",
        "  try:\n",
        "    weight = float(input(\"Enter your weight in KG: \"))\n",
        "    height_cm = float(input(\"Enter your height in CM: \"))\n",
        "    bmi = calculator_bmi(weight, height_cm)\n",
        "    category = catergorize_bmi(bmi)\n",
        "    print(f\"Your BMI is {bmi}\")\n",
        "    print(f\"You are {category}\")\n",
        "  except ValueError:\n",
        "    print(\"Invalid input. Please enter valid numbers.\")"
      ],
      "metadata": {
        "id": "I2YeHK88xG0N"
      },
      "execution_count": 34,
      "outputs": []
    },
    {
      "cell_type": "code",
      "source": [
        "if __name__ == \"__main__\":\n",
        "  main()"
      ],
      "metadata": {
        "colab": {
          "base_uri": "https://localhost:8080/"
        },
        "id": "7SGcXCtZzqGs",
        "outputId": "0ab4cff9-01ff-416a-f864-a88a75580a73"
      },
      "execution_count": 35,
      "outputs": [
        {
          "output_type": "stream",
          "name": "stdout",
          "text": [
            "Welcome to BMI Calculator\n",
            "Enter your weight in KG: 62\n",
            "Enter your height in CM: 195\n",
            "Your BMI is 16.31\n",
            "You are Underweight\n"
          ]
        }
      ]
    }
  ]
}