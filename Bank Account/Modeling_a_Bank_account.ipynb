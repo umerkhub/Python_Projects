{
  "nbformat": 4,
  "nbformat_minor": 0,
  "metadata": {
    "colab": {
      "provenance": [],
      "authorship_tag": "ABX9TyPVPV2vWftSQUKFxhl11sal",
      "include_colab_link": true
    },
    "kernelspec": {
      "name": "python3",
      "display_name": "Python 3"
    },
    "language_info": {
      "name": "python"
    }
  },
  "cells": [
    {
      "cell_type": "markdown",
      "metadata": {
        "id": "view-in-github",
        "colab_type": "text"
      },
      "source": [
        "<a href=\"https://colab.research.google.com/github/umerkhub/Python_Projects/blob/main/Bank%20Account/Modeling_a_Bank_account.ipynb\" target=\"_parent\"><img src=\"https://colab.research.google.com/assets/colab-badge.svg\" alt=\"Open In Colab\"/></a>"
      ]
    },
    {
      "cell_type": "markdown",
      "source": [
        "# Define a class Bank Account"
      ],
      "metadata": {
        "id": "k-UuVhk4i69d"
      }
    },
    {
      "cell_type": "code",
      "execution_count": 5,
      "metadata": {
        "id": "dO4RMGg8gO0z"
      },
      "outputs": [],
      "source": [
        "class BankAccount():\n",
        "    def __init__(self, owner, balance):\n",
        "      self.owner = owner\n",
        "      self.balance = balance\n",
        "\n",
        "    def deposit(self, amount):\n",
        "      self.balance += amount\n",
        "      print(f\"{amount} has been deposited to {self.owner}. New Balance is {self.balance}.\")\n",
        "\n",
        "    def withdraw(self, amount):\n",
        "      if amount >= self.balance:\n",
        "        print(\"Insufficient Balance\")\n",
        "      else:\n",
        "        self.balance -= amount\n",
        "        print(f\"{amount} has been withdrawn from {self.owner}. New Balance is {self.balance}.\")\n",
        "\n",
        "    def get_balance(self):\n",
        "      return self.balance"
      ]
    },
    {
      "cell_type": "markdown",
      "source": [
        "#Create an account"
      ],
      "metadata": {
        "id": "z9sbvbLZjCXt"
      }
    },
    {
      "cell_type": "code",
      "source": [
        "account = BankAccount(\"Umer\", 30000)\n",
        "print(account.owner)\n",
        "print(account.balance)"
      ],
      "metadata": {
        "colab": {
          "base_uri": "https://localhost:8080/"
        },
        "id": "SqSEi1qii1_J",
        "outputId": "c2ef5859-a858-45c4-d7fc-a48f47e616bf"
      },
      "execution_count": 7,
      "outputs": [
        {
          "output_type": "stream",
          "name": "stdout",
          "text": [
            "Umer\n",
            "30000\n"
          ]
        }
      ]
    },
    {
      "cell_type": "markdown",
      "source": [
        "#Deposit"
      ],
      "metadata": {
        "id": "km0Ci55LjRgV"
      }
    },
    {
      "cell_type": "code",
      "source": [
        "account.deposit(20000)"
      ],
      "metadata": {
        "colab": {
          "base_uri": "https://localhost:8080/"
        },
        "id": "hsmxQnRSjLmr",
        "outputId": "d816716a-7a15-4273-b458-9cf1bbae3c96"
      },
      "execution_count": 8,
      "outputs": [
        {
          "output_type": "stream",
          "name": "stdout",
          "text": [
            "20000 has been deposited to Umer. New Balance is 50000.\n"
          ]
        }
      ]
    },
    {
      "cell_type": "markdown",
      "source": [
        "#Withdraw"
      ],
      "metadata": {
        "id": "a4v8h8XrjcIq"
      }
    },
    {
      "cell_type": "code",
      "source": [
        "account.withdraw(10000)"
      ],
      "metadata": {
        "colab": {
          "base_uri": "https://localhost:8080/"
        },
        "id": "OxMMTKk4jYe8",
        "outputId": "d44ef63d-e657-4568-d522-33eb2dcbc2bc"
      },
      "execution_count": 11,
      "outputs": [
        {
          "output_type": "stream",
          "name": "stdout",
          "text": [
            "10000 has been withdrawn from Umer. New Balance is 30000.\n"
          ]
        }
      ]
    },
    {
      "cell_type": "markdown",
      "source": [
        "#Get Balance"
      ],
      "metadata": {
        "id": "nUHD0oSHjp2y"
      }
    },
    {
      "cell_type": "code",
      "source": [
        "print(account.get_balance())"
      ],
      "metadata": {
        "colab": {
          "base_uri": "https://localhost:8080/"
        },
        "id": "GeMMqhQejlKZ",
        "outputId": "e52ebc70-84a6-4edd-aced-32f3e96c5fa3"
      },
      "execution_count": 16,
      "outputs": [
        {
          "output_type": "stream",
          "name": "stdout",
          "text": [
            "30000\n"
          ]
        }
      ]
    },
    {
      "cell_type": "code",
      "source": [],
      "metadata": {
        "id": "aWz0eCKiju_c"
      },
      "execution_count": null,
      "outputs": []
    }
  ]
}