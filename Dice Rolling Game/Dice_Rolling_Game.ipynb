{
  "nbformat": 4,
  "nbformat_minor": 0,
  "metadata": {
    "colab": {
      "provenance": [],
      "authorship_tag": "ABX9TyNhiQNhvT0tjgDGUU1T5Ngv",
      "include_colab_link": true
    },
    "kernelspec": {
      "name": "python3",
      "display_name": "Python 3"
    },
    "language_info": {
      "name": "python"
    }
  },
  "cells": [
    {
      "cell_type": "markdown",
      "metadata": {
        "id": "view-in-github",
        "colab_type": "text"
      },
      "source": [
        "<a href=\"https://colab.research.google.com/github/umerkhub/Python_Projects/blob/main/Dice%20Rolling%20Game/Dice_Rolling_Game.ipynb\" target=\"_parent\"><img src=\"https://colab.research.google.com/assets/colab-badge.svg\" alt=\"Open In Colab\"/></a>"
      ]
    },
    {
      "cell_type": "code",
      "source": [
        "import random\n",
        "\n",
        "roll_count = 0\n",
        "\n",
        "while True:\n",
        "  choice = input('Roll the dice? (y/n) ').lower()\n",
        "\n",
        "  if choice == 'y':\n",
        "    try:\n",
        "      num_dice = int(input('How many dice you want to roll? '))\n",
        "      if num_dice <= 0:\n",
        "        print('Value entered must be greater than 0')\n",
        "        continue\n",
        "\n",
        "      rolls = [random.randint(1, 6) for _ in range(num_dice)]\n",
        "      print(f'Total rolls: {rolls}')\n",
        "      roll_count += 1\n",
        "\n",
        "    except ValueError:\n",
        "      print('Error occurred while rolling the dice.')\n",
        "\n",
        "  elif choice == 'n':\n",
        "      print(f'Thanks for playing! You rolled {roll_count} times.')\n",
        "      break\n",
        "  else:\n",
        "      print('Invalid choice. Try again!')"
      ],
      "metadata": {
        "colab": {
          "base_uri": "https://localhost:8080/"
        },
        "id": "5F8M6mzhagFH",
        "outputId": "86ea6ddb-fb54-4ba3-f339-2e8749c80ba4"
      },
      "execution_count": 14,
      "outputs": [
        {
          "output_type": "stream",
          "name": "stdout",
          "text": [
            "Roll the dice? (y/n) y\n",
            "How many dice you want to roll? 4\n",
            "Total rolls: [5, 3, 4, 1]\n",
            "Roll the dice? (y/n) 3\n",
            "Invalid choice. Try again!\n",
            "Roll the dice? (y/n) y\n",
            "How many dice you want to roll? 3\n",
            "Total rolls: [3, 1, 3]\n",
            "Roll the dice? (y/n) y\n",
            "How many dice you want to roll? 2\n",
            "Total rolls: [2, 6]\n",
            "Roll the dice? (y/n) t\n",
            "Invalid choice. Try again!\n",
            "Roll the dice? (y/n) n\n",
            "Thanks for playing! You rolled 3 times.\n"
          ]
        }
      ]
    }
  ]
}